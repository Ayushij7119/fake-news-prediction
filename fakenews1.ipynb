{
 "cells": [
  {
   "cell_type": "code",
   "execution_count": null,
   "metadata": {
    "execution": {
     "iopub.execute_input": "2021-09-22T12:38:24.213759Z",
     "iopub.status.busy": "2021-09-22T12:38:24.212993Z",
     "iopub.status.idle": "2021-09-22T12:38:24.220041Z",
     "shell.execute_reply": "2021-09-22T12:38:24.21921Z",
     "shell.execute_reply.started": "2021-09-22T12:38:24.213711Z"
    }
   },
   "outputs": [],
   "source": [
    "import pandas as pd\n",
    "import numpy as np\n",
    "from sklearn import linear_model\n",
    "import matplotlib.pyplot as plt\n",
    "import seaborn as sns\n",
    "%matplotlib inline"
   ]
  },
  {
   "cell_type": "code",
   "execution_count": null,
   "metadata": {
    "execution": {
     "iopub.execute_input": "2021-09-22T12:38:24.222132Z",
     "iopub.status.busy": "2021-09-22T12:38:24.221488Z",
     "iopub.status.idle": "2021-09-22T12:38:24.962574Z",
     "shell.execute_reply": "2021-09-22T12:38:24.961623Z",
     "shell.execute_reply.started": "2021-09-22T12:38:24.222086Z"
    }
   },
   "outputs": [],
   "source": [
    "new=pd.read_csv('../input/fake-and-real-news-dataset/Fake.csv')\n",
    "new.head()"
   ]
  },
  {
   "cell_type": "code",
   "execution_count": null,
   "metadata": {
    "execution": {
     "iopub.execute_input": "2021-09-22T12:38:24.963961Z",
     "iopub.status.busy": "2021-09-22T12:38:24.963709Z",
     "iopub.status.idle": "2021-09-22T12:38:24.968502Z",
     "shell.execute_reply": "2021-09-22T12:38:24.967638Z",
     "shell.execute_reply.started": "2021-09-22T12:38:24.963933Z"
    }
   },
   "outputs": [],
   "source": [
    "from sklearn.preprocessing import LabelEncoder\n",
    "le=LabelEncoder()"
   ]
  },
  {
   "cell_type": "code",
   "execution_count": null,
   "metadata": {
    "execution": {
     "iopub.execute_input": "2021-09-22T12:38:24.970946Z",
     "iopub.status.busy": "2021-09-22T12:38:24.970685Z",
     "iopub.status.idle": "2021-09-22T12:38:25.106046Z",
     "shell.execute_reply": "2021-09-22T12:38:25.105148Z",
     "shell.execute_reply.started": "2021-09-22T12:38:24.970919Z"
    }
   },
   "outputs": [],
   "source": [
    "new[\"titlele\"]=le.fit_transform(new.title)\n",
    "new[\"textle\"]=le.fit_transform(new.text)\n",
    "new[\"subjectle\"]=le.fit_transform(new.subject)\n",
    "new[\"datele\"]=le.fit_transform(new.date)\n",
    "new.head()"
   ]
  },
  {
   "cell_type": "code",
   "execution_count": null,
   "metadata": {
    "execution": {
     "iopub.execute_input": "2021-09-22T12:38:25.107519Z",
     "iopub.status.busy": "2021-09-22T12:38:25.10728Z",
     "iopub.status.idle": "2021-09-22T12:38:25.123116Z",
     "shell.execute_reply": "2021-09-22T12:38:25.122262Z",
     "shell.execute_reply.started": "2021-09-22T12:38:25.107493Z"
    }
   },
   "outputs": [],
   "source": [
    "new1=new.drop([\"title\",\"text\",\"subject\",\"date\"],axis=\"columns\")\n",
    "new1"
   ]
  },
  {
   "cell_type": "code",
   "execution_count": null,
   "metadata": {
    "execution": {
     "iopub.execute_input": "2021-09-22T12:38:25.124816Z",
     "iopub.status.busy": "2021-09-22T12:38:25.12456Z",
     "iopub.status.idle": "2021-09-22T12:38:30.549305Z",
     "shell.execute_reply": "2021-09-22T12:38:30.548301Z",
     "shell.execute_reply.started": "2021-09-22T12:38:25.124785Z"
    }
   },
   "outputs": [],
   "source": [
    "sns.pairplot(new1)"
   ]
  },
  {
   "cell_type": "code",
   "execution_count": null,
   "metadata": {
    "execution": {
     "iopub.execute_input": "2021-09-22T12:38:30.551188Z",
     "iopub.status.busy": "2021-09-22T12:38:30.550851Z",
     "iopub.status.idle": "2021-09-22T12:38:30.792782Z",
     "shell.execute_reply": "2021-09-22T12:38:30.791722Z",
     "shell.execute_reply.started": "2021-09-22T12:38:30.551129Z"
    }
   },
   "outputs": [],
   "source": [
    "plt.boxplot(new1)\n",
    "plt.show()"
   ]
  },
  {
   "cell_type": "code",
   "execution_count": null,
   "metadata": {
    "execution": {
     "iopub.execute_input": "2021-09-22T12:38:30.794952Z",
     "iopub.status.busy": "2021-09-22T12:38:30.794391Z",
     "iopub.status.idle": "2021-09-22T12:38:30.807171Z",
     "shell.execute_reply": "2021-09-22T12:38:30.806113Z",
     "shell.execute_reply.started": "2021-09-22T12:38:30.794911Z"
    }
   },
   "outputs": [],
   "source": [
    "Q1=new1.titlele.quantile(0.25)\n",
    "Q3=new1.titlele.quantile(0.75)\n",
    "IQR=Q3-Q1\n",
    "print(IQR)\n",
    "new2=new1[~((new1.titlele<(Q1-1.5*IQR))|(new1.titlele>(Q1+1.5*IQR)))]"
   ]
  },
  {
   "cell_type": "code",
   "execution_count": null,
   "metadata": {
    "execution": {
     "iopub.execute_input": "2021-09-22T12:38:30.808803Z",
     "iopub.status.busy": "2021-09-22T12:38:30.808527Z",
     "iopub.status.idle": "2021-09-22T12:38:30.823666Z",
     "shell.execute_reply": "2021-09-22T12:38:30.822265Z",
     "shell.execute_reply.started": "2021-09-22T12:38:30.808773Z"
    }
   },
   "outputs": [],
   "source": [
    "Q1=new1.textle.quantile(0.25)\n",
    "Q3=new1.textle.quantile(0.75)\n",
    "IQR=Q3-Q1\n",
    "print(IQR)\n",
    "new2=new1[~((new1.textle<(Q1-1.5*IQR))|(new1.textle>(Q1+1.5*IQR)))]"
   ]
  },
  {
   "cell_type": "code",
   "execution_count": null,
   "metadata": {
    "execution": {
     "iopub.execute_input": "2021-09-22T12:38:30.826716Z",
     "iopub.status.busy": "2021-09-22T12:38:30.826464Z",
     "iopub.status.idle": "2021-09-22T12:38:30.838996Z",
     "shell.execute_reply": "2021-09-22T12:38:30.838134Z",
     "shell.execute_reply.started": "2021-09-22T12:38:30.826687Z"
    }
   },
   "outputs": [],
   "source": [
    "Q1=new1.subjectle.quantile(0.25)\n",
    "Q3=new1.subjectle.quantile(0.75)\n",
    "IQR=Q3-Q1\n",
    "print(IQR)\n",
    "new2=new1[~((new1.subjectle<(Q1-1.5*IQR))|(new1.subjectle>(Q1+1.5*IQR)))]"
   ]
  },
  {
   "cell_type": "code",
   "execution_count": null,
   "metadata": {
    "execution": {
     "iopub.execute_input": "2021-09-22T12:38:30.841298Z",
     "iopub.status.busy": "2021-09-22T12:38:30.840235Z",
     "iopub.status.idle": "2021-09-22T12:38:30.857598Z",
     "shell.execute_reply": "2021-09-22T12:38:30.856562Z",
     "shell.execute_reply.started": "2021-09-22T12:38:30.841179Z"
    }
   },
   "outputs": [],
   "source": [
    "Q1=new1.datele.quantile(0.25)\n",
    "Q3=new1.datele.quantile(0.75)\n",
    "IQR=Q3-Q1\n",
    "print(IQR)\n",
    "new2=new1[~((new1.datele<(Q1-1.5*IQR))|(new1.datele>(Q1+1.5*IQR)))]"
   ]
  },
  {
   "cell_type": "code",
   "execution_count": null,
   "metadata": {
    "execution": {
     "iopub.execute_input": "2021-09-22T12:38:30.860123Z",
     "iopub.status.busy": "2021-09-22T12:38:30.859086Z",
     "iopub.status.idle": "2021-09-22T12:38:30.870492Z",
     "shell.execute_reply": "2021-09-22T12:38:30.869623Z",
     "shell.execute_reply.started": "2021-09-22T12:38:30.860073Z"
    }
   },
   "outputs": [],
   "source": [
    "X=new2[[\"textle\",\"subjectle\",\"datele\"]]\n",
    "y=new2[\"titlele\"]\n",
    "from sklearn.model_selection import train_test_split\n",
    "X_train,X_test,y_train,t=train_test_split(X,y,test_size=0.1)"
   ]
  },
  {
   "cell_type": "code",
   "execution_count": null,
   "metadata": {
    "execution": {
     "iopub.execute_input": "2021-09-22T12:38:30.872946Z",
     "iopub.status.busy": "2021-09-22T12:38:30.871966Z",
     "iopub.status.idle": "2021-09-22T12:38:30.882781Z",
     "shell.execute_reply": "2021-09-22T12:38:30.881344Z",
     "shell.execute_reply.started": "2021-09-22T12:38:30.872902Z"
    }
   },
   "outputs": [],
   "source": [
    "from sklearn.ensemble import RandomForestRegressor"
   ]
  },
  {
   "cell_type": "code",
   "execution_count": null,
   "metadata": {
    "execution": {
     "iopub.execute_input": "2021-09-22T12:38:30.884951Z",
     "iopub.status.busy": "2021-09-22T12:38:30.884539Z",
     "iopub.status.idle": "2021-09-22T12:38:32.429535Z",
     "shell.execute_reply": "2021-09-22T12:38:32.428292Z",
     "shell.execute_reply.started": "2021-09-22T12:38:30.884906Z"
    }
   },
   "outputs": [],
   "source": [
    "reg1=RandomForestRegressor(n_estimators=20, random_state=0)\n",
    "reg1.fit(X,y)\n",
    "y_pred=reg1.predict(X)"
   ]
  },
  {
   "cell_type": "code",
   "execution_count": null,
   "metadata": {
    "execution": {
     "iopub.execute_input": "2021-09-22T12:38:32.43111Z",
     "iopub.status.busy": "2021-09-22T12:38:32.430847Z",
     "iopub.status.idle": "2021-09-22T12:38:32.53498Z",
     "shell.execute_reply": "2021-09-22T12:38:32.533981Z",
     "shell.execute_reply.started": "2021-09-22T12:38:32.431081Z"
    }
   },
   "outputs": [],
   "source": [
    "reg1.score(X,y)"
   ]
  },
  {
   "cell_type": "code",
   "execution_count": null,
   "metadata": {
    "execution": {
     "iopub.execute_input": "2021-09-22T12:38:32.536123Z",
     "iopub.status.busy": "2021-09-22T12:38:32.535898Z",
     "iopub.status.idle": "2021-09-22T12:38:32.640278Z",
     "shell.execute_reply": "2021-09-22T12:38:32.639423Z",
     "shell.execute_reply.started": "2021-09-22T12:38:32.536096Z"
    }
   },
   "outputs": [],
   "source": [
    "reg1.predict(X)"
   ]
  },
  {
   "cell_type": "code",
   "execution_count": null,
   "metadata": {
    "execution": {
     "iopub.execute_input": "2021-09-22T12:38:32.641989Z",
     "iopub.status.busy": "2021-09-22T12:38:32.641686Z",
     "iopub.status.idle": "2021-09-22T12:38:32.646534Z",
     "shell.execute_reply": "2021-09-22T12:38:32.645704Z",
     "shell.execute_reply.started": "2021-09-22T12:38:32.641956Z"
    }
   },
   "outputs": [],
   "source": [
    "from sklearn import tree\n",
    "from sklearn import preprocessing\n",
    "from sklearn.tree import DecisionTreeClassifier"
   ]
  },
  {
   "cell_type": "code",
   "execution_count": null,
   "metadata": {
    "execution": {
     "iopub.execute_input": "2021-09-22T12:38:32.648613Z",
     "iopub.status.busy": "2021-09-22T12:38:32.648275Z",
     "iopub.status.idle": "2021-09-22T12:38:32.659023Z",
     "shell.execute_reply": "2021-09-22T12:38:32.658246Z",
     "shell.execute_reply.started": "2021-09-22T12:38:32.648575Z"
    }
   },
   "outputs": [],
   "source": [
    "model=tree.DecisionTreeClassifier()"
   ]
  },
  {
   "cell_type": "code",
   "execution_count": null,
   "metadata": {
    "execution": {
     "iopub.execute_input": "2021-09-22T12:38:32.661014Z",
     "iopub.status.busy": "2021-09-22T12:38:32.660688Z",
     "iopub.status.idle": "2021-09-22T12:39:51.227243Z",
     "shell.execute_reply": "2021-09-22T12:39:51.226309Z",
     "shell.execute_reply.started": "2021-09-22T12:38:32.660974Z"
    }
   },
   "outputs": [],
   "source": [
    "model.fit(X,y)"
   ]
  },
  {
   "cell_type": "code",
   "execution_count": null,
   "metadata": {
    "execution": {
     "iopub.execute_input": "2021-09-22T12:39:51.229595Z",
     "iopub.status.busy": "2021-09-22T12:39:51.228467Z",
     "iopub.status.idle": "2021-09-22T12:39:52.5474Z",
     "shell.execute_reply": "2021-09-22T12:39:52.546474Z",
     "shell.execute_reply.started": "2021-09-22T12:39:51.229552Z"
    }
   },
   "outputs": [],
   "source": [
    "model.score(X,y)"
   ]
  },
  {
   "cell_type": "code",
   "execution_count": null,
   "metadata": {
    "execution": {
     "iopub.execute_input": "2021-09-22T12:43:50.510181Z",
     "iopub.status.busy": "2021-09-22T12:43:50.509913Z",
     "iopub.status.idle": "2021-09-22T12:43:51.822695Z",
     "shell.execute_reply": "2021-09-22T12:43:51.821814Z",
     "shell.execute_reply.started": "2021-09-22T12:43:50.510155Z"
    }
   },
   "outputs": [],
   "source": [
    "model.predict(X)"
   ]
  },
  {
   "cell_type": "code",
   "execution_count": null,
   "metadata": {},
   "outputs": [],
   "source": [
    "#decision tree is best fitted"
   ]
  }
 ],
 "metadata": {
  "kernelspec": {
   "display_name": "Python 3",
   "language": "python",
   "name": "python3"
  },
  "language_info": {
   "codemirror_mode": {
    "name": "ipython",
    "version": 3
   },
   "file_extension": ".py",
   "mimetype": "text/x-python",
   "name": "python",
   "nbconvert_exporter": "python",
   "pygments_lexer": "ipython3",
   "version": "3.8.8"
  }
 },
 "nbformat": 4,
 "nbformat_minor": 4
}
